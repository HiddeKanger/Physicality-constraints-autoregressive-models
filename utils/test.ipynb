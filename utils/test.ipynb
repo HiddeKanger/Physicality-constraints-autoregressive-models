{
 "cells": [
  {
   "cell_type": "code",
   "execution_count": 22,
   "metadata": {},
   "outputs": [],
   "source": [
    "import numpy as np\n",
    "from POVM import POVM"
   ]
  },
  {
   "cell_type": "code",
   "execution_count": 23,
   "metadata": {},
   "outputs": [],
   "source": [
    "p = POVM(POVM = \"Tetra\", N_Qubits=2)"
   ]
  },
  {
   "cell_type": "code",
   "execution_count": 24,
   "metadata": {},
   "outputs": [
    {
     "data": {
      "text/plain": [
       "array([[ 5.+6.37964294e-34j, -1.-5.77778983e-34j, -1.-2.08166817e-17j,\n",
       "        -1.+2.08166817e-17j],\n",
       "       [-1.-3.46667390e-33j,  5.+1.73333695e-33j, -1.+1.03052285e-16j,\n",
       "        -1.-1.03052285e-16j],\n",
       "       [-1.-1.71853936e-19j, -1.-1.24040821e-16j,  5.+4.19770713e-17j,\n",
       "        -1.+8.25793111e-17j],\n",
       "       [-1.+1.71853936e-19j, -1.+1.24040821e-16j, -1.-8.25793111e-17j,\n",
       "         5.-4.19770713e-17j]])"
      ]
     },
     "execution_count": 24,
     "metadata": {},
     "output_type": "execute_result"
    }
   ],
   "source": [
    "p.it"
   ]
  },
  {
   "cell_type": "code",
   "execution_count": 25,
   "metadata": {},
   "outputs": [
    {
     "data": {
      "text/plain": [
       "array([[0.25      +0.00000000e+00j, 0.08333333+0.00000000e+00j,\n",
       "        0.08333333+0.00000000e+00j, 0.08333333+0.00000000e+00j],\n",
       "       [0.08333333+0.00000000e+00j, 0.25      +0.00000000e+00j,\n",
       "        0.08333333-3.44080463e-18j, 0.08333333+3.44080463e-18j],\n",
       "       [0.08333333+0.00000000e+00j, 0.08333333+3.44080463e-18j,\n",
       "        0.25      -1.74904464e-18j, 0.08333333-1.72040231e-18j],\n",
       "       [0.08333333+0.00000000e+00j, 0.08333333-3.44080463e-18j,\n",
       "        0.08333333+1.72040231e-18j, 0.25      +1.74904464e-18j]])"
      ]
     },
     "execution_count": 25,
     "metadata": {},
     "output_type": "execute_result"
    }
   ],
   "source": [
    "p.t"
   ]
  },
  {
   "cell_type": "code",
   "execution_count": 36,
   "metadata": {},
   "outputs": [
    {
     "data": {
      "text/plain": [
       "(4, 4, 4, 4)"
      ]
     },
     "execution_count": 36,
     "metadata": {},
     "output_type": "execute_result"
    }
   ],
   "source": [
    "p.p_two_qubit[0].shape"
   ]
  },
  {
   "cell_type": "code",
   "execution_count": null,
   "metadata": {},
   "outputs": [],
   "source": []
  }
 ],
 "metadata": {
  "kernelspec": {
   "display_name": "transformer",
   "language": "python",
   "name": "python3"
  },
  "language_info": {
   "codemirror_mode": {
    "name": "ipython",
    "version": 3
   },
   "file_extension": ".py",
   "mimetype": "text/x-python",
   "name": "python",
   "nbconvert_exporter": "python",
   "pygments_lexer": "ipython3",
   "version": "3.9.19"
  }
 },
 "nbformat": 4,
 "nbformat_minor": 2
}
